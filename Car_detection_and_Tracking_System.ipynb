{
  "nbformat": 4,
  "nbformat_minor": 0,
  "metadata": {
    "colab": {
      "provenance": [],
      "private_outputs": true
    },
    "kernelspec": {
      "name": "python3",
      "display_name": "Python 3"
    },
    "accelerator": "GPU"
  },
  "cells": [
    {
      "cell_type": "code",
      "metadata": {
        "id": "tNwS4iGxUKTS"
      },
      "source": [
        "import matplotlib.pyplot as plt\n",
        "import numpy as np\n",
        "import torch\n",
        "from torch import nn\n",
        "from torch import optim\n",
        "import torch.nn.functional as F\n",
        "from torchvision import datasets, transforms, models\n",
        "import torchvision.models as models\n",
        "from PIL import Image\n",
        "import json\n",
        "from matplotlib.ticker import FormatStrFormatter\n",
        "import os\n",
        "import pandas as pd\n",
        "import matplotlib.pyplot as plt\n",
        "import matplotlib.image as mpimg\n",
        "from pathlib import Path\n",
        "\n",
        "\n",
        "from torch.utils.data import *\n",
        "\n",
        "import time\n",
        "import copy\n",
        "import os\n",
        "\n",
        "from collections import OrderedDict"
      ],
      "execution_count": null,
      "outputs": []
    },
    {
      "cell_type": "code",
      "metadata": {
        "id": "HkD4ECJIUbeU"
      },
      "source": [
        "!pip install kaggle"
      ],
      "execution_count": null,
      "outputs": []
    },
    {
      "cell_type": "code",
      "metadata": {
        "id": "V4kdU6r8cZnF"
      },
      "source": [
        "from google.colab import files\n",
        "files.upload()"
      ],
      "execution_count": null,
      "outputs": []
    },
    {
      "cell_type": "code",
      "metadata": {
        "id": "_SJ8wGUfUs04"
      },
      "source": [
        "!mkdir -p ~/.kaggle\n",
        "!cp kaggle.json ~/.kaggle/\n",
        "!chmod 600 ~/.kaggle/kaggle.json"
      ],
      "execution_count": null,
      "outputs": []
    },
    {
      "cell_type": "code",
      "metadata": {
        "id": "wOiw7JNzVJ9_"
      },
      "source": [
        "!kaggle datasets download -d jutrera/stanford-car-dataset-by-classes-folder"
      ],
      "execution_count": null,
      "outputs": []
    },
    {
      "cell_type": "code",
      "metadata": {
        "id": "gSuWoyM5ViC1"
      },
      "source": [
        "from zipfile import ZipFile\n",
        "file_name = \"stanford-car-dataset-by-classes-folder.zip\"\n",
        "with ZipFile(file_name,'r') as zip:\n",
        "  zip.extractall()\n",
        "  print('done')"
      ],
      "execution_count": null,
      "outputs": []
    },
    {
      "cell_type": "code",
      "metadata": {
        "id": "m1ylkqQ6Vp56"
      },
      "source": [
        "import pandas as pd\n",
        "df = pd.read_csv('names.csv')\n",
        "df.head()"
      ],
      "execution_count": null,
      "outputs": []
    },
    {
      "cell_type": "code",
      "metadata": {
        "id": "WXkaH4Q0V7PD"
      },
      "source": [
        "\n",
        "data_transforms = {\n",
        "    'train': transforms.Compose([\n",
        "        transforms.RandomRotation(30),\n",
        "        transforms.RandomResizedCrop(224),\n",
        "\n",
        "        transforms.RandomHorizontalFlip(),\n",
        "        transforms.ToTensor(),\n",
        "        transforms.Normalize([0.485, 0.456, 0.406], [0.229, 0.224, 0.225])\n",
        "    ]),\n",
        "    'valid': transforms.Compose([\n",
        "\n",
        "        transforms.CenterCrop(224),\n",
        "        transforms.CenterCrop(299),\n",
        "        transforms.ToTensor(),\n",
        "        transforms.Normalize([0.485, 0.456, 0.406], [0.229, 0.224, 0.225])\n",
        "    ]),\n",
        "\n",
        "    'test': transforms.Compose([\n",
        "        transforms.Resize(256),\n",
        "        transforms.CenterCrop(224),\n",
        "\n",
        "        transforms.ToTensor(),\n",
        "        transforms.Normalize([0.485, 0.456, 0.406],[0.229, 0.224, 0.225])\n",
        "    ]),\n",
        "}"
      ],
      "execution_count": null,
      "outputs": []
    },
    {
      "cell_type": "code",
      "metadata": {
        "id": "vmRlHk9NWCpZ"
      },
      "source": [
        "\n",
        "\n",
        "train_dir = 'car_data/car_data/train'\n",
        "test_dir = 'car_data/car_data/test'\n",
        "label_dir = 'names.csv'\n",
        "\n",
        "batch_size=32\n",
        "dataset = datasets.ImageFolder(train_dir,transform=data_transforms['train'])\n",
        "\n",
        "valid_size  = int(0.1 * len(dataset))\n",
        "train_size = len(dataset) - valid_size\n",
        "dataset_sizes = {'train': train_size, 'valid': valid_size}\n",
        "\n",
        "\n",
        "train_dataset, valid_dataset = torch.utils.data.random_split(dataset, [train_size, valid_size])\n",
        "\n",
        "\n",
        "dataloaders = {'train': DataLoader(train_dataset, batch_size = batch_size, shuffle = True),\n",
        "              'valid': DataLoader(valid_dataset, batch_size = batch_size, shuffle = False)}\n",
        "\n",
        "print(\"Total Number of Samples: \",len(dataset))\n",
        "print(\"Number of Samples in Train: \",len(train_dataset))\n",
        "print(\"Number of Samples in Valid: \",len(valid_dataset))\n",
        "print(\"Number of Classes: \",len(dataset.classes))\n",
        "\n",
        "print(dataset.classes[0])"
      ],
      "execution_count": null,
      "outputs": []
    },
    {
      "cell_type": "code",
      "metadata": {
        "id": "Cy4krmhwXu96"
      },
      "source": [
        "import pandas as pd\n",
        "df = pd.read_csv('names.csv')\n",
        "df.head()"
      ],
      "execution_count": null,
      "outputs": []
    },
    {
      "cell_type": "code",
      "metadata": {
        "id": "l6MH5jyAX3yZ"
      },
      "source": [
        "\n",
        "def imshow(image, ax=None, title=None, normalize=True):\n",
        "    \"\"\"Imshow for Tensor.\"\"\"\n",
        "    if ax is None:\n",
        "        fig, ax = plt.subplots()\n",
        "    image = image.numpy().transpose((1, 2, 0))\n",
        "\n",
        "    if normalize:\n",
        "        mean = np.array([0.485, 0.456, 0.406])\n",
        "        std = np.array([0.229, 0.224, 0.225])\n",
        "        image = std * image + mean\n",
        "        image = np.clip(image, 0, 1)\n",
        "\n",
        "    ax.imshow(image)\n",
        "    ax.spines['top'].set_visible(False)\n",
        "    ax.spines['right'].set_visible(False)\n",
        "    ax.spines['left'].set_visible(False)\n",
        "    ax.spines['bottom'].set_visible(False)\n",
        "    ax.tick_params(axis='both', length=0)\n",
        "    ax.set_xticklabels('')\n",
        "    ax.set_yticklabels('')\n",
        "    return ax\n",
        "\n",
        "\n",
        "print(\" Sizes of Datasets: \", len(valid_dataset), len(train_dataset))\n",
        "\n",
        "images, labels = next(iter(dataloaders['train']))\n",
        "\n",
        "fig, axes = plt.subplots(figsize=(16,5), ncols=5)\n",
        "for ii in range(5):\n",
        "    ax = axes[ii]\n",
        "\n",
        "    imshow(images[ii], ax=ax, normalize=True)"
      ],
      "execution_count": null,
      "outputs": []
    },
    {
      "cell_type": "code",
      "metadata": {
        "id": "R70BWcpRYIEM"
      },
      "source": [
        "device = torch.device(\"cuda\" if torch.cuda.is_available() else \"cpu\")\n",
        "\n",
        "model_name = 'resnet' #vgg\n",
        "if model_name == 'densenet':\n",
        "    model = models.densenet161(pretrained=True)\n",
        "    num_in_features = 2208\n",
        "    print(model)\n",
        "\n",
        "elif model_name == 'vgg':\n",
        "    model = models.vgg19(pretrained=True)\n",
        "    num_in_features = 25088\n",
        "    print(model.classifier)\n",
        "\n",
        "elif model_name == 'resnet':\n",
        "    model = models.resnet152(pretrained=True)\n",
        "    #model = models.resnet34(pretrained=True)\n",
        "    num_in_features = 2048 #512\n",
        "    print(model.fc)\n",
        "\n",
        "elif model_name == 'inception':\n",
        "  model = models.inception_v3(pretrained=True)\n",
        "  model.aux_logits=False\n",
        "  num_in_features = 2048\n",
        "  print(model.fc)\n",
        "else:\n",
        "    print(\"Unknown model, please choose 'densenet' or 'vgg'\")"
      ],
      "execution_count": null,
      "outputs": []
    },
    {
      "cell_type": "code",
      "metadata": {
        "id": "U0qtYZ5vYXg0"
      },
      "source": [
        "\n",
        "for param in model.parameters():\n",
        "  param.require_grad = False\n",
        "\n",
        "\n",
        "def build_classifier(num_in_features, hidden_layers, num_out_features):\n",
        "    classifier = nn.Sequential()\n",
        "\n",
        "    if hidden_layers == None:\n",
        "        classifier.add_module('fc0', nn.Linear(num_in_features, 196))\n",
        "\n",
        "    else:\n",
        "        layer_sizes = zip(hidden_layers[:-1], hidden_layers[1:])\n",
        "        classifier.add_module('fc0', nn.Linear(num_in_features, hidden_layers[0]))\n",
        "        classifier.add_module('relu0', nn.ReLU())\n",
        "        classifier.add_module('drop0', nn.Dropout(.6))\n",
        "\n",
        "        for i, (h1, h2) in enumerate(layer_sizes):\n",
        "            classifier.add_module('fc'+str(i+1), nn.Linear(h1, h2))\n",
        "            classifier.add_module('relu'+str(i+1), nn.ReLU())\n",
        "            classifier.add_module('drop'+str(i+1), nn.Dropout(.5))\n",
        "        classifier.add_module('output', nn.Linear(hidden_layers[-1], num_out_features))\n",
        "\n",
        "    return classifier"
      ],
      "execution_count": null,
      "outputs": []
    },
    {
      "cell_type": "code",
      "metadata": {
        "id": "G9U2HR6XYk1i"
      },
      "source": [
        "\n",
        "hidden_layers = None #[1050,500]\n",
        "classifier = build_classifier(num_in_features, hidden_layers, 196)\n",
        "print(classifier)\n",
        "\n",
        "if model_name == 'densenet':\n",
        "    model.classifier = classifier\n",
        "    criterion = nn.CrossEntropyLoss()\n",
        "    optimizer = optim.Adadelta(model.parameters())\n",
        "    sched = optim.lr_scheduler.StepLR(optimizer, step_size=4)\n",
        "elif model_name == 'vgg':\n",
        "    model.classifier = classifier\n",
        "    criterion = nn.CrossEntropyLoss()\n",
        "    optimizer = optim.Adam(model.classifier.parameters(), lr=0.0001)\n",
        "    sched = optim.lr_scheduler.StepLR(optimizer, step_size=4, gamma=0.1)\n",
        "elif model_name == 'resnet':\n",
        "  model.fc = classifier\n",
        "  criterion = nn.CrossEntropyLoss()\n",
        "  optimizer = optim.SGD(model.parameters(), lr=0.01, momentum=0.9)\n",
        "  sched = optim.lr_scheduler.ReduceLROnPlateau(optimizer, mode='max', patience=3, threshold = 0.9)\n",
        "elif model_name == 'inception':\n",
        "    model.fc = classifier\n",
        "    criterion = nn.CrossEntropyLoss()\n",
        "    optimizer = optim.SGD(model.parameters(), lr=0.001,momentum=0.9)\n",
        "else:\n",
        "    pass"
      ],
      "execution_count": null,
      "outputs": []
    },
    {
      "cell_type": "code",
      "metadata": {
        "id": "kNHNesAdY0ft"
      },
      "source": [
        "# Training\n",
        "def train_model(model, criterion, optimizer, sched, num_epochs=5,device='cuda'):\n",
        "    start = time.time()\n",
        "    train_results = []\n",
        "    valid_results = []\n",
        "    best_model_wts = copy.deepcopy(model.state_dict())\n",
        "    best_acc = 0.0\n",
        "\n",
        "    for epoch in range(num_epochs):\n",
        "        print('Epoch {}/{}'.format(epoch+1, num_epochs))\n",
        "        print('-' * 10)\n",
        "\n",
        "        for phase in ['train', 'valid']:\n",
        "            if phase == 'train':\n",
        "              model.train()\n",
        "            else:\n",
        "              model.eval()\n",
        "\n",
        "            running_loss = 0.0\n",
        "            running_corrects = 0\n",
        "\n",
        "\n",
        "            for inputs, labels in dataloaders[phase]:\n",
        "                inputs = inputs.to(device)\n",
        "                labels = labels.to(device)\n",
        "\n",
        "\n",
        "                optimizer.zero_grad()\n",
        "\n",
        "\n",
        "                with torch.set_grad_enabled(phase == 'train'):\n",
        "                    outputs = model(inputs)\n",
        "                    _, preds = torch.max(outputs, 1)\n",
        "                    loss = criterion(outputs, labels)\n",
        "\n",
        "\n",
        "                    if phase == 'train':\n",
        "\n",
        "                        loss.backward()\n",
        "\n",
        "                        optimizer.step()\n",
        "\n",
        "\n",
        "                running_loss += loss.item() * inputs.size(0)\n",
        "                running_corrects += torch.sum(preds == labels.data)\n",
        "\n",
        "            epoch_loss = running_loss / dataset_sizes[phase]\n",
        "            epoch_acc = running_corrects.double() / dataset_sizes[phase]\n",
        "\n",
        "            if(phase == 'train'):\n",
        "              train_results.append([epoch_loss,epoch_acc])\n",
        "            if(phase == 'valid'):\n",
        "              valid_results.append([epoch_loss,epoch_acc])\n",
        "\n",
        "            print('{} Loss: {:.4f} Acc: {:.4f}'.format(phase, epoch_loss, epoch_acc))\n",
        "\n",
        "\n",
        "            if phase == 'valid' and epoch_acc > best_acc:\n",
        "                best_acc = epoch_acc\n",
        "                best_model_wts = copy.deepcopy(model.state_dict())\n",
        "                model_save_name = \"resnetCars.pt\"\n",
        "                path = F\"/content/drive/My Drive/{model_save_name}\"\n",
        "                torch.save(model.state_dict(), path)\n",
        "\n",
        "        print()\n",
        "\n",
        "\n",
        "    time_elapsed = time.time() - start\n",
        "    print('Training complete in {:.0f}m {:.0f}s'.format(\n",
        "        time_elapsed // 60, time_elapsed % 60))\n",
        "    print('Best val Acc: {:4f}'.format(best_acc))\n",
        "\n",
        "\n",
        "    model.load_state_dict(best_model_wts)\n",
        "\n",
        "    return model,train_results,valid_results\n"
      ],
      "execution_count": null,
      "outputs": []
    },
    {
      "cell_type": "code",
      "metadata": {
        "id": "p4SqinC6hRFa"
      },
      "source": [
        "from google.colab import drive\n",
        "drive.mount('/content/drive')"
      ],
      "execution_count": null,
      "outputs": []
    },
    {
      "cell_type": "code",
      "metadata": {
        "id": "IsU7EXBYkdro"
      },
      "source": [
        "epochs = 60\n",
        "model.to(device)\n",
        "model,train_results,valid_results = train_model(model, criterion, optimizer, sched, epochs)"
      ],
      "execution_count": null,
      "outputs": []
    },
    {
      "cell_type": "code",
      "metadata": {
        "id": "Sb2TejJ7Y-1G"
      },
      "source": [
        "model_save_name = 'classifier.pt'\n",
        "path = F\"/content/drive/My Drive/{model_save_name}\"\n",
        "torch.save(model.state_dict(), path)"
      ],
      "execution_count": null,
      "outputs": []
    },
    {
      "cell_type": "code",
      "metadata": {
        "id": "bXo0MukNyvDZ"
      },
      "source": [
        "model_save_name = 'classifier.pt'\n",
        "path = F\"/content/drive/My Drive/{model_save_name}\"\n",
        "model.load_state_dict(torch.load(path))"
      ],
      "execution_count": null,
      "outputs": []
    },
    {
      "cell_type": "code",
      "metadata": {
        "id": "PFrQvhkNpNBF"
      },
      "source": [
        "model.load_state_dict(torch.load('/content/drive/My Drive/resnetCars.pt'))\n",
        "model.to(device)"
      ],
      "execution_count": null,
      "outputs": []
    },
    {
      "cell_type": "code",
      "metadata": {
        "id": "i5H3fkQ8jIbJ"
      },
      "source": [
        "\n",
        "\n",
        "# Load the datasets with ImageFolder\n",
        "label_df = pd.read_csv('names.csv', names=[\"label\"])\n",
        "\n",
        "test_dir = 'car_data/car_data/test'\n",
        "\n",
        "with torch.no_grad():\n",
        "  print(\"Predictions on Test Set:\")\n",
        "  model.eval()\n",
        "  dataset = datasets.ImageFolder(test_dir,transform=data_transforms['test'])\n",
        "\n",
        "  testloader = torch.utils.data.DataLoader(dataset, batch_size=64,\n",
        "                                             shuffle=False, num_workers=2)\n",
        "\n",
        "  image_names = []\n",
        "  pred = []\n",
        "  for index in testloader.dataset.imgs:\n",
        "    image_names.append(Path(index[0]).stem)\n",
        "\n",
        "  results = []\n",
        "  file_names = []\n",
        "  predicted_car = []\n",
        "  predicted_class = []\n",
        "\n",
        "  for inputs,labels in testloader:\n",
        "    inputs = inputs.to(device)\n",
        "    #labels = labels.to(device)\n",
        "    outputs = model(inputs)\n",
        "    _, pred = torch.max(outputs, 1)\n",
        "\n",
        "    for i in range(len(inputs)):\n",
        "      file_names.append(image_names[i])\n",
        "      predicted_car.append(int(pred[i] + 1))\n",
        "\n",
        "results.append((file_names, predicted_car))"
      ],
      "execution_count": null,
      "outputs": []
    },
    {
      "cell_type": "code",
      "metadata": {
        "id": "3ABnPdenqXoX"
      },
      "source": [
        "print(\"Predictions on Test Set:\")\n",
        "a={'Id': image_names, 'Predicted': results}\n",
        "df = pd.DataFrame(a )\n",
        "pd.set_option('display.max_colwidth', -1)\n",
        "\n",
        "# df = df.sort_values(by=['Id'])\n",
        "df.to_csv('/content/drive/My Drive/predictions.csv')\n",
        "df"
      ],
      "execution_count": null,
      "outputs": []
    }
  ]
}